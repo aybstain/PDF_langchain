{
 "cells": [
  {
   "cell_type": "code",
   "execution_count": 2,
   "id": "c86da1d5",
   "metadata": {},
   "outputs": [
    {
     "name": "stderr",
     "output_type": "stream",
     "text": [
      "2023-08-30 16:50:45.372 INFO    numexpr.utils: NumExpr defaulting to 4 threads.\n"
     ]
    }
   ],
   "source": [
    "import streamlit as st\n",
    "from PyPDF2 import PdfReader\n",
    "from langchain.embeddings.openai import OpenAIEmbeddings\n",
    "from langchain.text_splitter import CharacterTextSplitter\n",
    "from langchain.vectorstores import FAISS\n",
    "from langchain.chains.question_answering import load_qa_chain\n",
    "from langchain.llms import OpenAI\n",
    "\n",
    "# Set up OpenAI API key\n",
    "os.environ[\"OPENAI_API_KEY\"] = \"Your key\"\n",
    "\n",
    "# Load PDF and create document search index\n",
    "def load_pdf(pdf_path):\n",
    "    # Load and split PDF pages\n",
    "    pdfreader = PdfReader(pdf_path)\n",
    "    raw_text = \"\"\n",
    "    for i, page in enumerate(pdfreader.pages):\n",
    "        content = page.extract_text()\n",
    "        if content:\n",
    "            raw_text += content\n",
    "\n",
    "    # Split text using Character Text Splitter\n",
    "    text_splitter = CharacterTextSplitter(\n",
    "        separator=\"\\n\",\n",
    "        chunk_size=800,\n",
    "        chunk_overlap=200,\n",
    "        length_function=len,\n",
    "    )\n",
    "    texts = text_splitter.split_text(raw_text)\n",
    "\n",
    "    # Create document search index\n",
    "    embeddings = OpenAIEmbeddings()\n",
    "    document_search = FAISS.from_texts(texts, embeddings)\n",
    "\n",
    "    return document_search\n",
    "\n",
    "\n",
    "\n",
    "# Load chatbot chain\n",
    "chain = load_qa_chain(OpenAI(), chain_type=\"stuff\")\n",
    "\n",
    "# Main Streamlit app\n",
    "def main():\n",
    "    st.title(\"PDF Chatbot\")\n",
    "\n",
    "    # File upload for PDF\n",
    "    pdf_file = st.sidebar.file_uploader(\"Upload a PDF file\", type=[\"pdf\"])\n",
    "\n",
    "    if pdf_file is not None:\n",
    "        # Load PDF and create index\n",
    "        pdf_index = load_pdf(pdf_file)\n",
    "        st.sidebar.success(\"PDF uploaded and indexed.\")\n",
    "\n",
    "        # User input for chatbot\n",
    "        user_query = st.text_input(\"Ask a question:\")\n",
    "        if st.button(\"Get Answer\"):\n",
    "            # Perform document search\n",
    "            docs = pdf_index.similarity_search(user_query)\n",
    "\n",
    "            # Run chatbot\n",
    "            result = chain.run(input_documents=docs, question=user_query)\n",
    "            st.write(\"Answer:\", result[\"answer\"])\n",
    "\n",
    "if __name__ == \"__main__\":\n",
    "    main()"
   ]
  },
  {
   "cell_type": "code",
   "execution_count": null,
   "id": "5565736e",
   "metadata": {},
   "outputs": [],
   "source": []
  }
 ],
 "metadata": {
  "kernelspec": {
   "display_name": "Python 3 (ipykernel)",
   "language": "python",
   "name": "python3"
  },
  "language_info": {
   "codemirror_mode": {
    "name": "ipython",
    "version": 3
   },
   "file_extension": ".py",
   "mimetype": "text/x-python",
   "name": "python",
   "nbconvert_exporter": "python",
   "pygments_lexer": "ipython3",
   "version": "3.9.7"
  }
 },
 "nbformat": 4,
 "nbformat_minor": 5
}
